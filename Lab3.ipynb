{
 "cells": [
  {
   "cell_type": "code",
   "execution_count": 1,
   "metadata": {},
   "outputs": [],
   "source": [
    "import numpy as np\n",
    "from scipy import signal\n",
    "import matplotlib.pyplot as plt\n",
    "%matplotlib inline"
   ]
  },
  {
   "cell_type": "markdown",
   "metadata": {},
   "source": [
    "### Маятник – тело с массой 0.4 кг, моментом инерции относительно оси 0.06 кг∙м2, центр его тяжести находится на расстоянии a м от оси, трения нет;\n",
    "\n",
    "Это значит, что I = M*L^2 -> L = sqrt(I / M) = 0.38м"
   ]
  },
  {
   "cell_type": "code",
   "execution_count": 2,
   "metadata": {},
   "outputs": [
    {
     "data": {
      "text/plain": [
       "array([ 0. ,  0.1,  0.2,  0.3,  0.4,  0.5,  0.6,  0.7,  0.8,  0.9,  1. ,\n",
       "        1.1,  1.2,  1.3,  1.4,  1.5,  1.6,  1.7,  1.8,  1.9,  2. ,  2.1,\n",
       "        2.2,  2.3,  2.4,  2.5,  2.6,  2.7,  2.8,  2.9,  3. ,  3.1,  3.2,\n",
       "        3.3,  3.4,  3.5,  3.6,  3.7,  3.8,  3.9,  4. ,  4.1,  4.2,  4.3,\n",
       "        4.4,  4.5,  4.6,  4.7,  4.8,  4.9,  5. ,  5.1,  5.2,  5.3,  5.4,\n",
       "        5.5,  5.6,  5.7,  5.8,  5.9,  6. ,  6.1,  6.2,  6.3,  6.4,  6.5,\n",
       "        6.6,  6.7,  6.8,  6.9,  7. ,  7.1,  7.2,  7.3,  7.4,  7.5,  7.6,\n",
       "        7.7,  7.8,  7.9,  8. ,  8.1,  8.2,  8.3,  8.4,  8.5,  8.6,  8.7,\n",
       "        8.8,  8.9,  9. ,  9.1,  9.2,  9.3,  9.4,  9.5,  9.6,  9.7,  9.8,\n",
       "        9.9, 10. ])"
      ]
     },
     "execution_count": 2,
     "metadata": {},
     "output_type": "execute_result"
    }
   ],
   "source": [
    "I = 0.06\n",
    "M = 0.4\n",
    "dT = 0.1\n",
    "g = 9.81\n",
    "L = 0.38\n",
    "TotalTime = 10\n",
    "Tin = np.linspace(0, TotalTime, TotalTime/dT + 1)\n",
    "Tin"
   ]
  },
  {
   "cell_type": "code",
   "execution_count": 3,
   "metadata": {},
   "outputs": [
    {
     "name": "stdout",
     "output_type": "stream",
     "text": [
      "TransferFunctionContinuous(\n",
      "array([16.66666667]),\n",
      "array([  1.   ,   0.   , -24.852]),\n",
      "dt: None\n",
      ")\n"
     ]
    }
   ],
   "source": [
    "sys_tf = signal.TransferFunction([1], [I, 0, -L * M * g])\n",
    "print(sys_tf)"
   ]
  },
  {
   "cell_type": "markdown",
   "metadata": {},
   "source": [
    "### Представьте систему с помощью уравнения состояния. Проинтерпретируйте переменные состояния."
   ]
  },
  {
   "cell_type": "code",
   "execution_count": 4,
   "metadata": {},
   "outputs": [
    {
     "name": "stdout",
     "output_type": "stream",
     "text": [
      "(array([[-0.   , 24.852],\n",
      "       [ 1.   ,  0.   ]]), array([[1.],\n",
      "       [0.]]), array([[ 0.        , 16.66666667]]), array([[0.]]))\n"
     ]
    }
   ],
   "source": [
    "sys_tf = signal.tf2ss([1], [I, 0, -L * M * g])\n",
    "print(sys_tf)"
   ]
  },
  {
   "cell_type": "markdown",
   "metadata": {},
   "source": [
    "#### d(z1) / d(t) = 24.8z2 + M and d(z2) / d(t) = z1 and theta = 16.(6)z2"
   ]
  },
  {
   "cell_type": "markdown",
   "metadata": {},
   "source": [
    "### Промоделируйте свободное (т.е. без включения двигателя) движение маятника из малого ненулевого угла. Упадёт ли при этом маятник?"
   ]
  },
  {
   "cell_type": "code",
   "execution_count": 5,
   "metadata": {},
   "outputs": [],
   "source": [
    "def plotting (sys):\n",
    "    axes = plt.gca()\n",
    "    axes.set_ylim([-0.4, 8])\n",
    "    axes.set_xlim([0, 10])\n",
    "    zero_input = np.zeros(Tin.shape)\n",
    "    start_pos = 1 / 180.0 * np.pi\n",
    "    Tout,yout,xout = signal.lsim(sys, zero_input, Tin, X0=[0, start_pos/40])\n",
    "    axes = plt.plot(Tout, yout, 'b')\n",
    "    limit = 15 / 180.0 * np.pi\n",
    "    axes = plt.plot([0, TotalTime], [limit, limit], 'r')\n",
    "    axes = plt.plot([0, TotalTime], [-limit, -limit], 'r')\n",
    "    plt.show()"
   ]
  },
  {
   "cell_type": "code",
   "execution_count": 6,
   "metadata": {},
   "outputs": [
    {
     "data": {
      "image/png": "[encoded data removed]",
      "text/plain": [
       "<Figure size 432x288 with 1 Axes>"
      ]
     },
     "metadata": {
      "needs_background": "light"
     },
     "output_type": "display_data"
    }
   ],
   "source": [
    "plotting(sys_tf)"
   ]
  },
  {
   "cell_type": "markdown",
   "metadata": {},
   "source": [
    "### Добавьте в систему PID-регулятор. Проинтерпретируйте изменения в уравнении состояния."
   ]
  },
  {
   "cell_type": "code",
   "execution_count": 7,
   "metadata": {},
   "outputs": [],
   "source": [
    "def PID (P, I, D):\n",
    "    PID_num = [D, P, I]\n",
    "    PID_den = [1, 0]\n",
    "    interm_num = np.convolve([1], PID_num)\n",
    "    interm_den = np.convolve([I, 0, -M*g*L], PID_den)\n",
    "    total_sys = signal.tf2ss(interm_den, np.polyadd(interm_den, interm_num))\n",
    "    return total_sys"
   ]
  },
  {
   "cell_type": "code",
   "execution_count": 8,
   "metadata": {},
   "outputs": [
    {
     "name": "stdout",
     "output_type": "stream",
     "text": [
      "(array([[0.]]), array([[1.]]), array([[0.]]), array([[3.03616224]]))\n"
     ]
    },
    {
     "name": "stderr",
     "output_type": "stream",
     "text": [
      "C:\\Users\\fruit\\Anaconda3\\lib\\site-packages\\scipy\\signal\\filter_design.py:1619: BadCoefficients: Badly conditioned filter coefficients (numerator): the results may be meaningless\n",
      "  \"results may be meaningless\", BadCoefficients)\n"
     ]
    }
   ],
   "source": [
    "#plotting(total_sys)   \n",
    "total_sys = PID(1, 0, 0)  #при таких параметрах выдается предупреждение\n",
    "print(total_sys)          #the results may be meaningless"
   ]
  },
  {
   "cell_type": "code",
   "execution_count": 9,
   "metadata": {},
   "outputs": [
    {
     "ename": "ValueError",
     "evalue": "cannot copy sequence with size 2 to array axis with dimension 1",
     "output_type": "error",
     "traceback": [
      "\u001b[1;31m---------------------------------------------------------------------------\u001b[0m",
      "\u001b[1;31mValueError\u001b[0m                                Traceback (most recent call last)",
      "\u001b[1;32m<ipython-input-9-8a5aa145429a>\u001b[0m in \u001b[0;36m<module>\u001b[1;34m\u001b[0m\n\u001b[0;32m      1\u001b[0m \u001b[0mzero_input\u001b[0m \u001b[1;33m=\u001b[0m \u001b[0mnp\u001b[0m\u001b[1;33m.\u001b[0m\u001b[0mzeros\u001b[0m\u001b[1;33m(\u001b[0m\u001b[0mTin\u001b[0m\u001b[1;33m.\u001b[0m\u001b[0mshape\u001b[0m\u001b[1;33m)\u001b[0m  \u001b[1;31m# ошибка cannot copy sequence with size 2 to array axis with dimension 1\u001b[0m\u001b[1;33m\u001b[0m\u001b[1;33m\u001b[0m\u001b[0m\n\u001b[0;32m      2\u001b[0m \u001b[0mstart_pos\u001b[0m \u001b[1;33m=\u001b[0m \u001b[1;36m1\u001b[0m \u001b[1;33m/\u001b[0m \u001b[1;36m180.0\u001b[0m \u001b[1;33m*\u001b[0m \u001b[0mnp\u001b[0m\u001b[1;33m.\u001b[0m\u001b[0mpi\u001b[0m\u001b[1;33m\u001b[0m\u001b[1;33m\u001b[0m\u001b[0m\n\u001b[1;32m----> 3\u001b[1;33m \u001b[0mTout\u001b[0m\u001b[1;33m,\u001b[0m\u001b[0myout\u001b[0m\u001b[1;33m,\u001b[0m\u001b[0mxout\u001b[0m \u001b[1;33m=\u001b[0m \u001b[0msignal\u001b[0m\u001b[1;33m.\u001b[0m\u001b[0mlsim\u001b[0m\u001b[1;33m(\u001b[0m\u001b[0mtotal_sys\u001b[0m\u001b[1;33m,\u001b[0m \u001b[0mzero_input\u001b[0m\u001b[1;33m,\u001b[0m \u001b[0mTin\u001b[0m\u001b[1;33m,\u001b[0m \u001b[0mX0\u001b[0m\u001b[1;33m=\u001b[0m\u001b[1;33m[\u001b[0m\u001b[1;36m0.\u001b[0m\u001b[1;33m,\u001b[0m \u001b[0mstart_pos\u001b[0m\u001b[1;33m/\u001b[0m\u001b[1;36m40\u001b[0m\u001b[1;33m]\u001b[0m\u001b[1;33m)\u001b[0m\u001b[1;33m\u001b[0m\u001b[1;33m\u001b[0m\u001b[0m\n\u001b[0m",
      "\u001b[1;32m~\\Anaconda3\\lib\\site-packages\\scipy\\signal\\ltisys.py\u001b[0m in \u001b[0;36mlsim\u001b[1;34m(system, U, T, X0, interp)\u001b[0m\n\u001b[0;32m   1945\u001b[0m \u001b[1;33m\u001b[0m\u001b[0m\n\u001b[0;32m   1946\u001b[0m     \u001b[1;32mif\u001b[0m \u001b[0mT\u001b[0m\u001b[1;33m[\u001b[0m\u001b[1;36m0\u001b[0m\u001b[1;33m]\u001b[0m \u001b[1;33m==\u001b[0m \u001b[1;36m0\u001b[0m\u001b[1;33m:\u001b[0m\u001b[1;33m\u001b[0m\u001b[1;33m\u001b[0m\u001b[0m\n\u001b[1;32m-> 1947\u001b[1;33m         \u001b[0mxout\u001b[0m\u001b[1;33m[\u001b[0m\u001b[1;36m0\u001b[0m\u001b[1;33m]\u001b[0m \u001b[1;33m=\u001b[0m \u001b[0mX0\u001b[0m\u001b[1;33m\u001b[0m\u001b[1;33m\u001b[0m\u001b[0m\n\u001b[0m\u001b[0;32m   1948\u001b[0m     \u001b[1;32melif\u001b[0m \u001b[0mT\u001b[0m\u001b[1;33m[\u001b[0m\u001b[1;36m0\u001b[0m\u001b[1;33m]\u001b[0m \u001b[1;33m>\u001b[0m \u001b[1;36m0\u001b[0m\u001b[1;33m:\u001b[0m\u001b[1;33m\u001b[0m\u001b[1;33m\u001b[0m\u001b[0m\n\u001b[0;32m   1949\u001b[0m         \u001b[1;31m# step forward to initial time, with zero input\u001b[0m\u001b[1;33m\u001b[0m\u001b[1;33m\u001b[0m\u001b[1;33m\u001b[0m\u001b[0m\n",
      "\u001b[1;31mValueError\u001b[0m: cannot copy sequence with size 2 to array axis with dimension 1"
     ]
    }
   ],
   "source": [
    "zero_input = np.zeros(Tin.shape)  # ошибка cannot copy sequence with size 2 to array axis with dimension 1\n",
    "start_pos = 1 / 180.0 * np.pi\n",
    "Tout,yout,xout = signal.lsim(total_sys, zero_input, Tin, X0=[0., start_pos/40])"
   ]
  },
  {
   "cell_type": "code",
   "execution_count": 10,
   "metadata": {},
   "outputs": [
    {
     "ename": "ValueError",
     "evalue": "cannot copy sequence with size 2 to array axis with dimension 3",
     "output_type": "error",
     "traceback": [
      "\u001b[1;31m---------------------------------------------------------------------------\u001b[0m",
      "\u001b[1;31mValueError\u001b[0m                                Traceback (most recent call last)",
      "\u001b[1;32m<ipython-input-10-6c2528364924>\u001b[0m in \u001b[0;36m<module>\u001b[1;34m\u001b[0m\n\u001b[0;32m      1\u001b[0m \u001b[0mtotal_sys\u001b[0m \u001b[1;33m=\u001b[0m \u001b[0mPID\u001b[0m\u001b[1;33m(\u001b[0m\u001b[1;36m1\u001b[0m\u001b[1;33m,\u001b[0m\u001b[1;36m1\u001b[0m\u001b[1;33m,\u001b[0m\u001b[1;36m0\u001b[0m\u001b[1;33m)\u001b[0m  \u001b[1;31m# ошибка cannot copy sequence with size 2 to array axis with dimension 3\u001b[0m\u001b[1;33m\u001b[0m\u001b[1;33m\u001b[0m\u001b[0m\n\u001b[1;32m----> 2\u001b[1;33m \u001b[0mTout\u001b[0m\u001b[1;33m,\u001b[0m\u001b[0myout\u001b[0m\u001b[1;33m,\u001b[0m\u001b[0mxout\u001b[0m \u001b[1;33m=\u001b[0m \u001b[0msignal\u001b[0m\u001b[1;33m.\u001b[0m\u001b[0mlsim\u001b[0m\u001b[1;33m(\u001b[0m\u001b[0mtotal_sys\u001b[0m\u001b[1;33m,\u001b[0m \u001b[0mzero_input\u001b[0m\u001b[1;33m,\u001b[0m \u001b[0mTin\u001b[0m\u001b[1;33m,\u001b[0m \u001b[0mX0\u001b[0m\u001b[1;33m=\u001b[0m\u001b[1;33m[\u001b[0m\u001b[1;36m0.\u001b[0m\u001b[1;33m,\u001b[0m \u001b[0mstart_pos\u001b[0m\u001b[1;33m/\u001b[0m\u001b[1;36m40\u001b[0m\u001b[1;33m]\u001b[0m\u001b[1;33m)\u001b[0m\u001b[1;33m\u001b[0m\u001b[1;33m\u001b[0m\u001b[0m\n\u001b[0m",
      "\u001b[1;32m~\\Anaconda3\\lib\\site-packages\\scipy\\signal\\ltisys.py\u001b[0m in \u001b[0;36mlsim\u001b[1;34m(system, U, T, X0, interp)\u001b[0m\n\u001b[0;32m   1945\u001b[0m \u001b[1;33m\u001b[0m\u001b[0m\n\u001b[0;32m   1946\u001b[0m     \u001b[1;32mif\u001b[0m \u001b[0mT\u001b[0m\u001b[1;33m[\u001b[0m\u001b[1;36m0\u001b[0m\u001b[1;33m]\u001b[0m \u001b[1;33m==\u001b[0m \u001b[1;36m0\u001b[0m\u001b[1;33m:\u001b[0m\u001b[1;33m\u001b[0m\u001b[1;33m\u001b[0m\u001b[0m\n\u001b[1;32m-> 1947\u001b[1;33m         \u001b[0mxout\u001b[0m\u001b[1;33m[\u001b[0m\u001b[1;36m0\u001b[0m\u001b[1;33m]\u001b[0m \u001b[1;33m=\u001b[0m \u001b[0mX0\u001b[0m\u001b[1;33m\u001b[0m\u001b[1;33m\u001b[0m\u001b[0m\n\u001b[0m\u001b[0;32m   1948\u001b[0m     \u001b[1;32melif\u001b[0m \u001b[0mT\u001b[0m\u001b[1;33m[\u001b[0m\u001b[1;36m0\u001b[0m\u001b[1;33m]\u001b[0m \u001b[1;33m>\u001b[0m \u001b[1;36m0\u001b[0m\u001b[1;33m:\u001b[0m\u001b[1;33m\u001b[0m\u001b[1;33m\u001b[0m\u001b[0m\n\u001b[0;32m   1949\u001b[0m         \u001b[1;31m# step forward to initial time, with zero input\u001b[0m\u001b[1;33m\u001b[0m\u001b[1;33m\u001b[0m\u001b[1;33m\u001b[0m\u001b[0m\n",
      "\u001b[1;31mValueError\u001b[0m: cannot copy sequence with size 2 to array axis with dimension 3"
     ]
    }
   ],
   "source": [
    "total_sys = PID(1,1,0)  # ошибка cannot copy sequence with size 2 to array axis with dimension 3\n",
    "Tout,yout,xout = signal.lsim(total_sys, zero_input, Tin, X0=[0., start_pos/40]) "
   ]
  },
  {
   "cell_type": "code",
   "execution_count": 11,
   "metadata": {},
   "outputs": [
    {
     "data": {
      "text/plain": [
       "array([-4.36332313e-04, -4.80998589e-04, -5.27565623e-04, -5.75757720e-04,\n",
       "       -6.25259771e-04, -6.75714236e-04, -7.26718255e-04, -7.77820919e-04,\n",
       "       -8.28520728e-04, -8.78263281e-04, -9.26439234e-04, -9.72382564e-04,\n",
       "       -1.01536920e-03, -1.05461607e-03, -1.08928057e-03, -1.11846064e-03,\n",
       "       -1.14119532e-03, -1.15646603e-03, -1.16319848e-03, -1.16026545e-03,\n",
       "       -1.14649032e-03, -1.12065157e-03, -1.08148820e-03, -1.02770628e-03,\n",
       "       -9.57986531e-04, -8.70993159e-04, -7.65383880e-04, -6.39821290e-04,\n",
       "       -4.92985584e-04, -3.23588689e-04, -1.30389870e-04,  8.77871843e-05,\n",
       "        3.32035734e-04,  6.03345827e-04,  9.02582586e-04,  1.23046295e-03,\n",
       "        1.58753092e-03,  1.97413125e-03,  2.39038185e-03,  2.83614469e-03,\n",
       "        3.31099557e-03,  3.81419270e-03,  4.34464435e-03,  4.90087564e-03,\n",
       "        5.48099483e-03,  6.08265908e-03,  6.70304031e-03,  7.33879113e-03,\n",
       "        7.98601133e-03,  8.64021529e-03,  9.29630075e-03,  9.94851926e-03,\n",
       "        1.05904490e-02,  1.12149701e-02,  1.18142440e-02,  1.23796955e-02,\n",
       "        1.29020011e-02,  1.33710808e-02,  1.37760974e-02,  1.41054618e-02,\n",
       "        1.43468456e-02,  1.44872029e-02,  1.45128004e-02,  1.44092578e-02,\n",
       "        1.41615995e-02,  1.37543174e-02,  1.31714469e-02,  1.23966556e-02,\n",
       "        1.14133477e-02,  1.02047821e-02,  8.75420723e-03,  7.04501285e-03,\n",
       "        5.06089844e-03,  2.78606020e-03,  2.05396269e-04, -2.69526905e-03,\n",
       "       -5.92894190e-03, -9.50719613e-03, -1.34398913e-02, -1.77348712e-02,\n",
       "       -2.23976444e-02, -2.74310455e-02, -3.28348802e-02, -3.86055534e-02,\n",
       "       -4.47356829e-02, -5.12136995e-02, -5.80234368e-02, -6.51437116e-02,\n",
       "       -7.25478986e-02, -8.02035021e-02, -8.80717288e-02, -9.61070650e-02,\n",
       "       -1.04256863e-01, -1.12460941e-01, -1.20651205e-01, -1.28751291e-01,\n",
       "       -1.36676244e-01, -1.44332234e-01, -1.51616314e-01, -1.58416237e-01,\n",
       "       -1.64610334e-01])"
      ]
     },
     "execution_count": 11,
     "metadata": {},
     "output_type": "execute_result"
    }
   ],
   "source": [
    "Tout,yout,xout = signal.lsim(total_sys, zero_input, Tin, X0=[0., start_pos/40, 0]) \n",
    "yout  # при добавлении третьего параметра в Х0 выдаются какие-то разумные результаты"
   ]
  }
 ],
 "metadata": {
  "kernelspec": {
   "display_name": "Python 3",
   "language": "python",
   "name": "python3"
  },
  "language_info": {
   "codemirror_mode": {
    "name": "ipython",
    "version": 3
   },
   "file_extension": ".py",
   "mimetype": "text/x-python",
   "name": "python",
   "nbconvert_exporter": "python",
   "pygments_lexer": "ipython3",
   "version": "3.7.5"
  }
 },
 "nbformat": 4,
 "nbformat_minor": 2
}
