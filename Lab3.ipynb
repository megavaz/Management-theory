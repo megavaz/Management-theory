{
 "cells": [
  {
   "cell_type": "code",
   "execution_count": 1,
   "metadata": {},
   "outputs": [],
   "source": [
    "import numpy as np\n",
    "from scipy import signal\n",
    "import matplotlib.pyplot as plt\n",
    "%matplotlib inline"
   ]
  },
  {
   "cell_type": "markdown",
   "metadata": {},
   "source": [
    "### Маятник – тело с массой 0.4 кг, моментом инерции относительно оси 0.06 кг∙м2, центр его тяжести находится на расстоянии a м от оси, трения нет;\n",
    "\n",
    "Это значит, что I = M*L^2 -> L = sqrt(I / M) = 0.38м"
   ]
  },
  {
   "cell_type": "code",
   "execution_count": 2,
   "metadata": {},
   "outputs": [
    {
     "name": "stderr",
     "output_type": "stream",
     "text": [
      "/home/stepan/.local/lib/python3.5/site-packages/ipykernel_launcher.py:7: DeprecationWarning: object of type <class 'float'> cannot be safely interpreted as an integer.\n",
      "  import sys\n"
     ]
    }
   ],
   "source": [
    "In = 0.06\n",
    "M = 0.4\n",
    "dT = 0.1\n",
    "g = 9.81\n",
    "L = 0.38\n",
    "TotalTime = 50\n",
    "Tin = np.linspace(0, TotalTime, TotalTime/dT + 1)"
   ]
  },
  {
   "cell_type": "code",
   "execution_count": 3,
   "metadata": {},
   "outputs": [
    {
     "name": "stdout",
     "output_type": "stream",
     "text": [
      "TransferFunctionContinuous(\n",
      "array([16.66666667]),\n",
      "array([  1.   ,   0.   , -24.852]),\n",
      "dt: None\n",
      ")\n"
     ]
    }
   ],
   "source": [
    "sys_tf = signal.TransferFunction([1], [In, 0, -L * M * g])\n",
    "print(sys_tf)"
   ]
  },
  {
   "cell_type": "markdown",
   "metadata": {},
   "source": [
    "### Представьте систему с помощью уравнения состояния. Проинтерпретируйте переменные состояния."
   ]
  },
  {
   "cell_type": "code",
   "execution_count": 4,
   "metadata": {},
   "outputs": [
    {
     "name": "stdout",
     "output_type": "stream",
     "text": [
      "(array([[-0.   , 24.852],\n",
      "       [ 1.   ,  0.   ]]), array([[1.],\n",
      "       [0.]]), array([[ 0.        , 16.66666667]]), array([[0.]]))\n"
     ]
    }
   ],
   "source": [
    "sys_tf = signal.tf2ss([1], [In, 0, -L * M * g])\n",
    "print(sys_tf)"
   ]
  },
  {
   "cell_type": "markdown",
   "metadata": {},
   "source": [
    "#### d(z1) / d(t) = 24.8z2 + M and d(z2) / d(t) = z1 and theta = 16.(6)z2"
   ]
  },
  {
   "cell_type": "markdown",
   "metadata": {},
   "source": [
    "### Промоделируйте свободное (т.е. без включения двигателя) движение маятника из малого ненулевого угла. Упадёт ли при этом маятник?"
   ]
  },
  {
   "cell_type": "code",
   "execution_count": 5,
   "metadata": {},
   "outputs": [],
   "source": [
    "def plotting (sys, xlim, Xo):\n",
    "    axes = plt.gca()\n",
    "    axes.set_ylim([-1, 2])\n",
    "    axes.set_xlim([0, xlim])\n",
    "    zero_input = np.zeros(Tin.shape)    \n",
    "    Tout,yout,xout = signal.lsim(sys, zero_input, Tin, X0=Xo)\n",
    "    axes = plt.plot(Tout, yout, 'b')\n",
    "    limit = 15 / 180.0 * np.pi\n",
    "    axes = plt.plot([0, TotalTime], [limit, limit], 'r')\n",
    "    axes = plt.plot([0, TotalTime], [-limit, -limit], 'r')\n",
    "    plt.show()"
   ]
  },
  {
   "cell_type": "code",
   "execution_count": 6,
   "metadata": {},
   "outputs": [
    {
     "data": {
      "image/png": "[encoded data removed]",
      "text/plain": [
       "<Figure size 432x288 with 1 Axes>"
      ]
     },
     "metadata": {
      "needs_background": "light"
     },
     "output_type": "display_data"
    }
   ],
   "source": [
    "start_pos = 1 / 180.0 * np.pi\n",
    "plotting(sys_tf, 1.5, [0, start_pos / 56 * 3])"
   ]
  },
  {
   "cell_type": "markdown",
   "metadata": {},
   "source": [
    "### Добавьте в систему PID-регулятор. Проинтерпретируйте изменения в уравнении состояния."
   ]
  },
  {
   "cell_type": "code",
   "execution_count": 7,
   "metadata": {},
   "outputs": [],
   "source": [
    "def PID (P, I, D):\n",
    "    PID_num = [D, P, I]\n",
    "    PID_den = [1, 0]\n",
    "    interm_num = np.convolve([1], PID_num)\n",
    "    interm_den = np.convolve([In, 0, -M*g*L], PID_den)\n",
    "    total_sys = signal.tf2ss(interm_den, np.polyadd(interm_den, interm_num))\n",
    "    return total_sys"
   ]
  },
  {
   "cell_type": "code",
   "execution_count": 21,
   "metadata": {},
   "outputs": [
    {
     "name": "stdout",
     "output_type": "stream",
     "text": [
      "(array([[-0.        ,  8.18533333, -0.        ],\n",
      "       [ 1.        ,  0.        ,  0.        ],\n",
      "       [ 0.        ,  1.        ,  0.        ]]), array([[1.],\n",
      "       [0.],\n",
      "       [0.]]), array([[  0.        , -16.66666667,   0.        ]]), array([[1.]]))\n"
     ]
    }
   ],
   "source": [
    "total_sys = PID(1, 0, 0)\n",
    "print(total_sys)          "
   ]
  },
  {
   "cell_type": "code",
   "execution_count": 22,
   "metadata": {},
   "outputs": [
    {
     "data": {
      "image/png": "[encoded data removed]",
      "text/plain": [
       "<Figure size 432x288 with 1 Axes>"
      ]
     },
     "metadata": {
      "needs_background": "light"
     },
     "output_type": "display_data"
    }
   ],
   "source": [
    "start_pos = 15 / 180 * np.pi\n",
    "plotting(total_sys, 30, [0., start_pos/56*-3, 0])"
   ]
  },
  {
   "cell_type": "markdown",
   "metadata": {},
   "source": [
    "### Настроим PID регулятор"
   ]
  },
  {
   "cell_type": "code",
   "execution_count": 10,
   "metadata": {},
   "outputs": [],
   "source": [
    "total_sys = PID(7, 0, 0) \n",
    "shift = total_sys[2][0][1]"
   ]
  },
  {
   "cell_type": "code",
   "execution_count": 11,
   "metadata": {},
   "outputs": [
    {
     "data": {
      "image/png": "[encoded data removed]",
      "text/plain": [
       "<Figure size 432x288 with 1 Axes>"
      ]
     },
     "metadata": {
      "needs_background": "light"
     },
     "output_type": "display_data"
    }
   ],
   "source": [
    "plotting(total_sys, 1, [0., start_pos/shift, 0])"
   ]
  },
  {
   "cell_type": "code",
   "execution_count": 12,
   "metadata": {},
   "outputs": [],
   "source": [
    "P_res = 7\n",
    "T = 0.7\n",
    "P = 0.6 * P_res\n",
    "I = 1.2 * P_res / T\n",
    "D = 3 * P_res * T / 40\n",
    "\n",
    "total_sys = PID(P, I, D)\n",
    "shift = total_sys[2][0][1]"
   ]
  },
  {
   "cell_type": "code",
   "execution_count": 13,
   "metadata": {},
   "outputs": [
    {
     "data": {
      "image/png": "[encoded data removed]",
      "text/plain": [
       "<Figure size 432x288 with 1 Axes>"
      ]
     },
     "metadata": {
      "needs_background": "light"
     },
     "output_type": "display_data"
    }
   ],
   "source": [
    "plotting(total_sys, 10, [0, start_pos/shift, 0])"
   ]
  }
 ],
 "metadata": {
  "kernelspec": {
   "display_name": "Python 3",
   "language": "python",
   "name": "python3"
  },
  "language_info": {
   "codemirror_mode": {
    "name": "ipython",
    "version": 3
   },
   "file_extension": ".py",
   "mimetype": "text/x-python",
   "name": "python",
   "nbconvert_exporter": "python",
   "pygments_lexer": "ipython3",
   "version": "3.5.2"
  }
 },
 "nbformat": 4,
 "nbformat_minor": 4
}
