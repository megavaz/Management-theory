{
 "cells": [
  {
   "cell_type": "code",
   "execution_count": 1,
   "metadata": {},
   "outputs": [],
   "source": [
    "import numpy as np\n",
    "from scipy import signal\n",
    "import matplotlib.pyplot as plt\n",
    "%matplotlib inline"
   ]
  },
  {
   "cell_type": "markdown",
   "metadata": {},
   "source": [
    "### Маятник – тело с массой 0.4 кг, моментом инерции относительно оси 0.06 кг∙м2, центр его тяжести находится на расстоянии a м от оси, трения нет;\n",
    "\n",
    "Это значит, что I = M*L^2 -> L = sqrt(I / M) = 0.38м"
   ]
  },
  {
   "cell_type": "code",
   "execution_count": 2,
   "metadata": {},
   "outputs": [
    {
     "data": {
      "text/plain": [
       "array([ 0. ,  0.1,  0.2,  0.3,  0.4,  0.5,  0.6,  0.7,  0.8,  0.9,  1. ,\n",
       "        1.1,  1.2,  1.3,  1.4,  1.5,  1.6,  1.7,  1.8,  1.9,  2. ,  2.1,\n",
       "        2.2,  2.3,  2.4,  2.5,  2.6,  2.7,  2.8,  2.9,  3. ,  3.1,  3.2,\n",
       "        3.3,  3.4,  3.5,  3.6,  3.7,  3.8,  3.9,  4. ,  4.1,  4.2,  4.3,\n",
       "        4.4,  4.5,  4.6,  4.7,  4.8,  4.9,  5. ,  5.1,  5.2,  5.3,  5.4,\n",
       "        5.5,  5.6,  5.7,  5.8,  5.9,  6. ,  6.1,  6.2,  6.3,  6.4,  6.5,\n",
       "        6.6,  6.7,  6.8,  6.9,  7. ,  7.1,  7.2,  7.3,  7.4,  7.5,  7.6,\n",
       "        7.7,  7.8,  7.9,  8. ,  8.1,  8.2,  8.3,  8.4,  8.5,  8.6,  8.7,\n",
       "        8.8,  8.9,  9. ,  9.1,  9.2,  9.3,  9.4,  9.5,  9.6,  9.7,  9.8,\n",
       "        9.9, 10. ])"
      ]
     },
     "execution_count": 2,
     "metadata": {},
     "output_type": "execute_result"
    }
   ],
   "source": [
    "In = 0.06\n",
    "M = 0.4\n",
    "dT = 0.1\n",
    "g = 9.81\n",
    "L = 0.38\n",
    "TotalTime = 10\n",
    "Tin = np.linspace(0, TotalTime, TotalTime/dT + 1)\n",
    "Tin"
   ]
  },
  {
   "cell_type": "code",
   "execution_count": 3,
   "metadata": {},
   "outputs": [
    {
     "name": "stdout",
     "output_type": "stream",
     "text": [
      "TransferFunctionContinuous(\n",
      "array([16.66666667]),\n",
      "array([  1.   ,   0.   , -24.852]),\n",
      "dt: None\n",
      ")\n"
     ]
    }
   ],
   "source": [
    "sys_tf = signal.TransferFunction([1], [In, 0, -L * M * g])\n",
    "print(sys_tf)"
   ]
  },
  {
   "cell_type": "markdown",
   "metadata": {},
   "source": [
    "### Представьте систему с помощью уравнения состояния. Проинтерпретируйте переменные состояния."
   ]
  },
  {
   "cell_type": "code",
   "execution_count": 4,
   "metadata": {},
   "outputs": [
    {
     "name": "stdout",
     "output_type": "stream",
     "text": [
      "(array([[-0.   , 24.852],\n",
      "       [ 1.   ,  0.   ]]), array([[1.],\n",
      "       [0.]]), array([[ 0.        , 16.66666667]]), array([[0.]]))\n"
     ]
    }
   ],
   "source": [
    "sys_tf = signal.tf2ss([1], [In, 0, -L * M * g])\n",
    "print(sys_tf)"
   ]
  },
  {
   "cell_type": "markdown",
   "metadata": {},
   "source": [
    "#### d(z1) / d(t) = 24.8z2 + M and d(z2) / d(t) = z1 and theta = 16.(6)z2"
   ]
  },
  {
   "cell_type": "markdown",
   "metadata": {},
   "source": [
    "### Промоделируйте свободное (т.е. без включения двигателя) движение маятника из малого ненулевого угла. Упадёт ли при этом маятник?"
   ]
  },
  {
   "cell_type": "code",
   "execution_count": 5,
   "metadata": {},
   "outputs": [],
   "source": [
    "def plotting (sys):\n",
    "    axes = plt.gca()\n",
    "    axes.set_ylim([-0.4, 8])\n",
    "    axes.set_xlim([0, 10])\n",
    "    zero_input = np.zeros(Tin.shape)\n",
    "    start_pos = 1 / 180.0 * np.pi\n",
    "    Tout,yout,xout = signal.lsim(sys, zero_input, Tin, X0=[0, start_pos/40])\n",
    "    axes = plt.plot(Tout, yout, 'b')\n",
    "    limit = 15 / 180.0 * np.pi\n",
    "    axes = plt.plot([0, TotalTime], [limit, limit], 'r')\n",
    "    axes = plt.plot([0, TotalTime], [-limit, -limit], 'r')\n",
    "    plt.show()"
   ]
  },
  {
   "cell_type": "code",
   "execution_count": 6,
   "metadata": {},
   "outputs": [
    {
     "data": {
      "image/png": "[encoded data removed]",
      "text/plain": [
       "<Figure size 432x288 with 1 Axes>"
      ]
     },
     "metadata": {
      "needs_background": "light"
     },
     "output_type": "display_data"
    }
   ],
   "source": [
    "plotting(sys_tf)"
   ]
  },
  {
   "cell_type": "markdown",
   "metadata": {},
   "source": [
    "### Добавьте в систему PID-регулятор. Проинтерпретируйте изменения в уравнении состояния."
   ]
  },
  {
   "cell_type": "code",
   "execution_count": 7,
   "metadata": {},
   "outputs": [],
   "source": [
    "def PID (P, I, D):\n",
    "    PID_num = [D, P, I]\n",
    "    PID_den = [1, 0]\n",
    "    interm_num = np.convolve([1], PID_num)\n",
    "    interm_den = np.convolve([In, 0, -M*g*L], PID_den)\n",
    "    total_sys = signal.tf2ss(interm_den, np.polyadd(interm_den, interm_num))\n",
    "    return total_sys"
   ]
  },
  {
   "cell_type": "code",
   "execution_count": 8,
   "metadata": {},
   "outputs": [
    {
     "name": "stdout",
     "output_type": "stream",
     "text": [
      "(array([[-0.        ,  8.18533333, -0.        ],\n",
      "       [ 1.        ,  0.        ,  0.        ],\n",
      "       [ 0.        ,  1.        ,  0.        ]]), array([[1.],\n",
      "       [0.],\n",
      "       [0.]]), array([[  0.        , -16.66666667,   0.        ]]), array([[1.]]))\n"
     ]
    }
   ],
   "source": [
    "#plotting(total_sys)   \n",
    "total_sys = PID(1, 0, 0)  #теперь это ОК\n",
    "print(total_sys)          "
   ]
  },
  {
   "cell_type": "code",
   "execution_count": 9,
   "metadata": {},
   "outputs": [
    {
     "ename": "ValueError",
     "evalue": "cannot copy sequence with size 2 to array axis with dimension 3",
     "output_type": "error",
     "traceback": [
      "\u001b[1;31m---------------------------------------------------------------------------\u001b[0m",
      "\u001b[1;31mValueError\u001b[0m                                Traceback (most recent call last)",
      "\u001b[1;32m<ipython-input-9-5259f1341737>\u001b[0m in \u001b[0;36m<module>\u001b[1;34m\u001b[0m\n\u001b[0;32m      2\u001b[0m \u001b[0mstart_pos\u001b[0m \u001b[1;33m=\u001b[0m \u001b[1;36m1\u001b[0m \u001b[1;33m/\u001b[0m \u001b[1;36m180\u001b[0m \u001b[1;33m*\u001b[0m \u001b[0mnp\u001b[0m\u001b[1;33m.\u001b[0m\u001b[0mpi\u001b[0m\u001b[1;33m\u001b[0m\u001b[1;33m\u001b[0m\u001b[0m\n\u001b[0;32m      3\u001b[0m \u001b[0mtotal_sys\u001b[0m \u001b[1;33m=\u001b[0m \u001b[0mPID\u001b[0m\u001b[1;33m(\u001b[0m\u001b[1;36m1\u001b[0m\u001b[1;33m,\u001b[0m\u001b[1;36m0\u001b[0m\u001b[1;33m,\u001b[0m\u001b[1;36m0\u001b[0m\u001b[1;33m)\u001b[0m  \u001b[1;31m# ошибка cannot copy sequence with size 2 to array axis with dimension 3\u001b[0m\u001b[1;33m\u001b[0m\u001b[1;33m\u001b[0m\u001b[0m\n\u001b[1;32m----> 4\u001b[1;33m \u001b[0mTout\u001b[0m\u001b[1;33m,\u001b[0m\u001b[0myout\u001b[0m\u001b[1;33m,\u001b[0m\u001b[0mxout\u001b[0m \u001b[1;33m=\u001b[0m \u001b[0msignal\u001b[0m\u001b[1;33m.\u001b[0m\u001b[0mlsim\u001b[0m\u001b[1;33m(\u001b[0m\u001b[0mtotal_sys\u001b[0m\u001b[1;33m,\u001b[0m \u001b[0mzero_input\u001b[0m\u001b[1;33m,\u001b[0m \u001b[0mTin\u001b[0m\u001b[1;33m,\u001b[0m \u001b[0mX0\u001b[0m\u001b[1;33m=\u001b[0m\u001b[1;33m[\u001b[0m\u001b[1;36m0.\u001b[0m\u001b[1;33m,\u001b[0m \u001b[0mstart_pos\u001b[0m\u001b[1;33m/\u001b[0m\u001b[1;36m40\u001b[0m\u001b[1;33m]\u001b[0m\u001b[1;33m)\u001b[0m\u001b[1;33m\u001b[0m\u001b[1;33m\u001b[0m\u001b[0m\n\u001b[0m",
      "\u001b[1;32m~\\Anaconda3\\lib\\site-packages\\scipy\\signal\\ltisys.py\u001b[0m in \u001b[0;36mlsim\u001b[1;34m(system, U, T, X0, interp)\u001b[0m\n\u001b[0;32m   1945\u001b[0m \u001b[1;33m\u001b[0m\u001b[0m\n\u001b[0;32m   1946\u001b[0m     \u001b[1;32mif\u001b[0m \u001b[0mT\u001b[0m\u001b[1;33m[\u001b[0m\u001b[1;36m0\u001b[0m\u001b[1;33m]\u001b[0m \u001b[1;33m==\u001b[0m \u001b[1;36m0\u001b[0m\u001b[1;33m:\u001b[0m\u001b[1;33m\u001b[0m\u001b[1;33m\u001b[0m\u001b[0m\n\u001b[1;32m-> 1947\u001b[1;33m         \u001b[0mxout\u001b[0m\u001b[1;33m[\u001b[0m\u001b[1;36m0\u001b[0m\u001b[1;33m]\u001b[0m \u001b[1;33m=\u001b[0m \u001b[0mX0\u001b[0m\u001b[1;33m\u001b[0m\u001b[1;33m\u001b[0m\u001b[0m\n\u001b[0m\u001b[0;32m   1948\u001b[0m     \u001b[1;32melif\u001b[0m \u001b[0mT\u001b[0m\u001b[1;33m[\u001b[0m\u001b[1;36m0\u001b[0m\u001b[1;33m]\u001b[0m \u001b[1;33m>\u001b[0m \u001b[1;36m0\u001b[0m\u001b[1;33m:\u001b[0m\u001b[1;33m\u001b[0m\u001b[1;33m\u001b[0m\u001b[0m\n\u001b[0;32m   1949\u001b[0m         \u001b[1;31m# step forward to initial time, with zero input\u001b[0m\u001b[1;33m\u001b[0m\u001b[1;33m\u001b[0m\u001b[1;33m\u001b[0m\u001b[0m\n",
      "\u001b[1;31mValueError\u001b[0m: cannot copy sequence with size 2 to array axis with dimension 3"
     ]
    }
   ],
   "source": [
    "zero_input = np.zeros(Tin.shape)\n",
    "start_pos = 1 / 180 * np.pi\n",
    "total_sys = PID(1,0,0)  # ошибка cannot copy sequence with size 2 to array axis with dimension 3\n",
    "Tout,yout,xout = signal.lsim(total_sys, zero_input, Tin, X0=[0., start_pos/40])"
   ]
  },
  {
   "cell_type": "code",
   "execution_count": 10,
   "metadata": {},
   "outputs": [
    {
     "data": {
      "text/plain": [
       "array([-7.27220522e-03, -7.57186803e-03, -8.49555264e-03, -1.01193828e-02,\n",
       "       -1.25771837e-02, -1.60715103e-02, -2.08903414e-02, -2.74308121e-02,\n",
       "       -3.62319435e-02, -4.80190650e-02, -6.37635908e-02, -8.47630775e-02,\n",
       "       -1.12748160e-01, -1.50025177e-01, -1.99666249e-01, -2.65762452e-01,\n",
       "       -3.53760987e-01, -4.70914093e-01, -6.26876732e-01, -8.34502282e-01,\n",
       "       -1.11090183e+00, -1.47885433e+00, -1.96868394e+00, -2.62075908e+00,\n",
       "       -3.48881932e+00, -4.64440430e+00, -6.18274945e+00, -8.23063470e+00,\n",
       "       -1.09568328e+01, -1.45860185e+01, -1.94172844e+01, -2.58487907e+01,\n",
       "       -3.44105783e+01, -4.58082514e+01, -6.09811286e+01, -8.11796551e+01,\n",
       "       -1.08068456e+02, -1.43863523e+02, -1.91514842e+02, -2.54949509e+02,\n",
       "       -3.39395379e+02, -4.51811905e+02, -6.01463691e+02, -8.00684018e+02,\n",
       "       -1.06589127e+03, -1.41894202e+03, -1.88893231e+03, -2.51459553e+03,\n",
       "       -3.34749460e+03, -4.45627137e+03, -5.93230367e+03, -7.89723605e+03,\n",
       "       -1.05130048e+04, -1.39951839e+04, -1.86307507e+04, -2.48017370e+04,\n",
       "       -3.30167137e+04, -4.39527030e+04, -5.85109748e+04, -7.78913226e+04,\n",
       "       -1.03690943e+05, -1.38036064e+05, -1.83757178e+05, -2.44622307e+05,\n",
       "       -3.25647541e+05, -4.33510427e+05, -5.77100290e+05, -7.68250828e+05,\n",
       "       -1.02271537e+06, -1.36146514e+06, -1.81241760e+06, -2.41273718e+06,\n",
       "       -3.21189812e+06, -4.27576184e+06, -5.69200472e+06, -7.57734387e+06,\n",
       "       -1.00871561e+07, -1.34282830e+07, -1.78760776e+07, -2.37970967e+07,\n",
       "       -3.16793105e+07, -4.21723173e+07, -5.61408793e+07, -7.47361902e+07,\n",
       "       -9.94907490e+07, -1.32444658e+08, -1.76313753e+08, -2.34713427e+08,\n",
       "       -3.12456584e+08, -4.15950284e+08, -5.53723773e+08, -7.37131405e+08,\n",
       "       -9.81288387e+08, -1.30631648e+09, -1.73900227e+09, -2.31500479e+09,\n",
       "       -3.08179424e+09, -4.10256418e+09, -5.46143952e+09, -7.27040951e+09,\n",
       "       -9.67855714e+09])"
      ]
     },
     "execution_count": 10,
     "metadata": {},
     "output_type": "execute_result"
    }
   ],
   "source": [
    "Tout,yout,xout = signal.lsim(total_sys, zero_input, Tin, X0=[0., start_pos/40, 0]) \n",
    "yout  # при добавлении третьего параметра в Х0 выдаются какие-то разумные результаты"
   ]
  }
 ],
 "metadata": {
  "kernelspec": {
   "display_name": "Python 3",
   "language": "python",
   "name": "python3"
  },
  "language_info": {
   "codemirror_mode": {
    "name": "ipython",
    "version": 3
   },
   "file_extension": ".py",
   "mimetype": "text/x-python",
   "name": "python",
   "nbconvert_exporter": "python",
   "pygments_lexer": "ipython3",
   "version": "3.7.5"
  }
 },
 "nbformat": 4,
 "nbformat_minor": 2
}
